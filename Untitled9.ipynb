{
  "nbformat": 4,
  "nbformat_minor": 0,
  "metadata": {
    "colab": {
      "provenance": [],
      "authorship_tag": "ABX9TyNI9IcCHg5xjnF/k/91IMlB",
      "include_colab_link": true
    },
    "kernelspec": {
      "name": "python3",
      "display_name": "Python 3"
    },
    "language_info": {
      "name": "python"
    }
  },
  "cells": [
    {
      "cell_type": "markdown",
      "metadata": {
        "id": "view-in-github",
        "colab_type": "text"
      },
      "source": [
        "<a href=\"https://colab.research.google.com/github/nevadoruiz/Segundo_Repositorio/blob/main/Untitled9.ipynb\" target=\"_parent\"><img src=\"https://colab.research.google.com/assets/colab-badge.svg\" alt=\"Open In Colab\"/></a>"
      ]
    },
    {
      "cell_type": "code",
      "execution_count": null,
      "metadata": {
        "id": "kYpTuZzPAoaW"
      },
      "outputs": [],
      "source": []
    },
    {
      "cell_type": "markdown",
      "source": [
        "Instalando o SDK do Google"
      ],
      "metadata": {
        "id": "3FlNgWWaA4lX"
      }
    },
    {
      "cell_type": "code",
      "execution_count": 1,
      "metadata": {
        "id": "J6Pd9SFJ1yVi"
      },
      "outputs": [],
      "source": [
        "!pip install -q -U google-generativeai"
      ]
    },
    {
      "cell_type": "code",
      "source": [
        "import google.generativeai as genai\n",
        "\n",
        "GOOGLE_API_KEY=\"API_KEY\"\n",
        "genai.configure(api_key=GOOGLE_API_KEY)"
      ],
      "metadata": {
        "id": "HgBwNCw6BatG"
      },
      "execution_count": 2,
      "outputs": []
    },
    {
      "cell_type": "markdown",
      "source": [
        "Listar os modelos disponíveis"
      ],
      "metadata": {
        "id": "yZRzRvVOB3wj"
      }
    },
    {
      "cell_type": "code",
      "source": [
        "for m in genai.list_models():\n",
        "  if 'generateContent' in m.supported_generation_methods:\n",
        "    print(m.name)"
      ],
      "metadata": {
        "colab": {
          "base_uri": "https://localhost:8080/",
          "height": 145
        },
        "id": "MRw5pSBvBsoC",
        "outputId": "f1fbc902-0030-4bef-c777-89063d816798"
      },
      "execution_count": 3,
      "outputs": [
        {
          "output_type": "stream",
          "name": "stdout",
          "text": [
            "models/gemini-1.0-pro\n",
            "models/gemini-1.0-pro-001\n",
            "models/gemini-1.0-pro-latest\n",
            "models/gemini-1.0-pro-vision-latest\n",
            "models/gemini-1.5-pro-latest\n",
            "models/gemini-pro\n",
            "models/gemini-pro-vision\n"
          ]
        }
      ]
    },
    {
      "cell_type": "code",
      "source": [
        "generation_config={\n",
        "    \"candidate_count\": 1,\n",
        "    \"temperature\": 0.5\n",
        "}"
      ],
      "metadata": {
        "id": "FTwmnnW8Febz"
      },
      "execution_count": 4,
      "outputs": []
    },
    {
      "cell_type": "code",
      "source": [
        "safety_settings = {\n",
        "    \"HARASSMENT\": \"BLOCK_NONE\",\n",
        "    \"HATE\": \"BLOCK_NONE\",\n",
        "    \"SEXUAL\": \"BLOCK_NONE\",\n",
        "    \"DANGEROUS\": \"BLOCK_NONE\"\n",
        "}"
      ],
      "metadata": {
        "id": "lsjtaf8rGvVs"
      },
      "execution_count": 5,
      "outputs": []
    },
    {
      "cell_type": "markdown",
      "source": [
        "Inicializando o modelo\n"
      ],
      "metadata": {
        "id": "6klc1BsVHYis"
      }
    },
    {
      "cell_type": "code",
      "source": [
        "model = genai.GenerativeModel(model_name=\"gemini-1.0-pro\",\n",
        "                              generation_config=generation_config,\n",
        "                              safety_settings=safety_settings\n",
        "                              )"
      ],
      "metadata": {
        "id": "liPIOURqHdn-"
      },
      "execution_count": 6,
      "outputs": []
    },
    {
      "cell_type": "code",
      "source": [
        "response = model.generate_content(\"Resumen de la obra de Dante Alighieri 'La Divina Comédia'\")\n",
        "print(response.text)"
      ],
      "metadata": {
        "colab": {
          "base_uri": "https://localhost:8080/",
          "height": 509
        },
        "id": "SxBPIBmXJ90P",
        "outputId": "56881e06-6fbf-4861-a482-da87a2805265"
      },
      "execution_count": 8,
      "outputs": [
        {
          "output_type": "stream",
          "name": "stdout",
          "text": [
            "**La Divina Comedia** de Dante Alighieri es un poema épico alegórico que describe el viaje del poeta a través del Infierno, el Purgatorio y el Paraíso.\n",
            "\n",
            "**Infierno:**\n",
            "\n",
            "* Dante, guiado por el poeta romano Virgilio, desciende a los nueve círculos del Infierno.\n",
            "* Cada círculo alberga diferentes tipos de pecadores, desde los menos culpables (lujuria) hasta los más malvados (traición).\n",
            "* Dante encuentra a personajes históricos, mitológicos y bíblicos, incluido el propio Lucifer, quien está congelado en el centro del infierno.\n",
            "\n",
            "**Purgatorio:**\n",
            "\n",
            "* Después de escapar del Infierno, Dante sube al Monte Purgatorio.\n",
            "* El Purgatorio consta de siete terrazas, cada una dedicada a un pecado capital específico.\n",
            "* Las almas se purifican sufriendo penas relacionadas con sus pecados, pero finalmente alcanzan el Paraíso.\n",
            "\n",
            "**Paraíso:**\n",
            "\n",
            "* Dante, ahora guiado por su amada Beatriz, asciende a través de las nueve esferas del Paraíso.\n",
            "* Cada esfera representa un nivel diferente de virtud o conocimiento.\n",
            "* Dante finalmente llega al Empíreo, donde contempla la visión beatífica de Dios y la Trinidad.\n",
            "\n",
            "**Temas principales:**\n",
            "\n",
            "* **El viaje del alma:** El poema representa el viaje del alma humana desde el pecado y la desesperación hasta la redención y la salvación.\n",
            "* **La justicia divina:** Dante muestra las consecuencias del pecado y la importancia de la justicia divina.\n",
            "* **El amor:** El amor de Dante por Beatriz lo guía a través de su viaje y representa el amor divino que puede redimir incluso a los más pecadores.\n",
            "* **La estructura alegórica:** La Divina Comedia es una alegoría compleja que representa el viaje de la humanidad desde el pecado hasta la salvación.\n",
            "* **El lenguaje y la forma poética:** El poema está escrito en terza rima, una forma poética que crea un ritmo y una estructura únicos.\n"
          ]
        }
      ]
    },
    {
      "cell_type": "markdown",
      "source": [
        "Criando o chatbot\n"
      ],
      "metadata": {
        "id": "mPTuE3ivLmDJ"
      }
    },
    {
      "cell_type": "code",
      "source": [
        "chat = model.start_chat(history=[])\n",
        "prompt = input(\"Esperando prompt: \")\n",
        "while prompt != \"fim\":\n",
        "  response = chat.send_message(prompt)\n",
        "  print(\"Resposta: \", response.text, \"\\n\")\n",
        "  prompt = input(\"Esperando prompt: \")\n",
        ""
      ],
      "metadata": {
        "colab": {
          "base_uri": "https://localhost:8080/",
          "height": 473
        },
        "id": "YoCqU32nLu9f",
        "outputId": "28c523d1-ce0e-41a8-f51f-0ab6496580e8"
      },
      "execution_count": 10,
      "outputs": [
        {
          "name": "stdout",
          "output_type": "stream",
          "text": [
            "Esperando prompt: Cual es la capital de Colombia?\n",
            "Resposta:  Bogotá \n",
            "\n",
            "Esperando prompt: Cual es la comida típica de Colombia?\n",
            "Resposta:  Bandeja paisa \n",
            "\n",
            "Esperando prompt: Cual es el ritmo musical mas importante de Colombia?\n",
            "Resposta:  Cumbia \n",
            "\n",
            "Esperando prompt: Cual es el escritor mas importante de Colombia?\n",
            "Resposta:  Gabriel García Márquez \n",
            "\n",
            "Esperando prompt: Quiero saber el nombre de otros cuatro escritores famosos de Colombia\n",
            "Resposta:  * Juan Gabriel Vásquez\n",
            "* Laura Restrepo\n",
            "* Jorge Franco Ramos\n",
            "* Fernando Vallejo \n",
            "\n",
            "Esperando prompt: Cual es el pintor mas importante de Colombia?\n",
            "Resposta:  Fernando Botero \n",
            "\n",
            "Esperando prompt: Cual es el escultor mas importante de Colombia?\n",
            "Resposta:  Rodrigo Arenas Betancourt \n",
            "\n",
            "Esperando prompt: fim\n"
          ]
        }
      ]
    }
  ]
}